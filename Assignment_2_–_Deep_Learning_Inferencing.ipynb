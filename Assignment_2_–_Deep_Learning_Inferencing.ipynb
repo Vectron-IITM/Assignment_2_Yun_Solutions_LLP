{
  "nbformat": 4,
  "nbformat_minor": 0,
  "metadata": {
    "colab": {
      "name": "Assignment 2 – Deep Learning Inferencing.ipynb",
      "provenance": [],
      "collapsed_sections": []
    },
    "kernelspec": {
      "name": "python3",
      "display_name": "Python 3"
    },
    "language_info": {
      "name": "python"
    }
  },
  "cells": [
    {
      "cell_type": "code",
      "execution_count": 1,
      "metadata": {
        "id": "57T2DQ5JdxWG",
        "colab": {
          "base_uri": "https://localhost:8080/"
        },
        "outputId": "0c40dca8-9ec7-4c54-a577-5519c596c0bb"
      },
      "outputs": [
        {
          "output_type": "stream",
          "name": "stdout",
          "text": [
            "Requirement already satisfied: camelot-py[cv] in /usr/local/lib/python3.7/dist-packages (0.10.1)\n",
            "Requirement already satisfied: PyPDF2>=1.26.0 in /usr/local/lib/python3.7/dist-packages (from camelot-py[cv]) (1.27.7)\n",
            "Requirement already satisfied: tabulate>=0.8.9 in /usr/local/lib/python3.7/dist-packages (from camelot-py[cv]) (0.8.9)\n",
            "Requirement already satisfied: click>=6.7 in /usr/local/lib/python3.7/dist-packages (from camelot-py[cv]) (7.1.2)\n",
            "Requirement already satisfied: openpyxl>=2.5.8 in /usr/local/lib/python3.7/dist-packages (from camelot-py[cv]) (3.0.9)\n",
            "Requirement already satisfied: numpy>=1.13.3 in /usr/local/lib/python3.7/dist-packages (from camelot-py[cv]) (1.21.6)\n",
            "Requirement already satisfied: pdfminer.six>=20200726 in /usr/local/lib/python3.7/dist-packages (from camelot-py[cv]) (20220319)\n",
            "Requirement already satisfied: chardet>=3.0.4 in /usr/local/lib/python3.7/dist-packages (from camelot-py[cv]) (3.0.4)\n",
            "Requirement already satisfied: pandas>=0.23.4 in /usr/local/lib/python3.7/dist-packages (from camelot-py[cv]) (1.3.5)\n",
            "Requirement already satisfied: pdftopng>=0.2.3 in /usr/local/lib/python3.7/dist-packages (from camelot-py[cv]) (0.2.3)\n",
            "Requirement already satisfied: opencv-python>=3.4.2.17 in /usr/local/lib/python3.7/dist-packages (from camelot-py[cv]) (4.1.2.30)\n",
            "Requirement already satisfied: ghostscript>=0.7 in /usr/local/lib/python3.7/dist-packages (from camelot-py[cv]) (0.7)\n",
            "Requirement already satisfied: setuptools>=38.6.0 in /usr/local/lib/python3.7/dist-packages (from ghostscript>=0.7->camelot-py[cv]) (57.4.0)\n",
            "Requirement already satisfied: et-xmlfile in /usr/local/lib/python3.7/dist-packages (from openpyxl>=2.5.8->camelot-py[cv]) (1.1.0)\n",
            "Requirement already satisfied: pytz>=2017.3 in /usr/local/lib/python3.7/dist-packages (from pandas>=0.23.4->camelot-py[cv]) (2022.1)\n",
            "Requirement already satisfied: python-dateutil>=2.7.3 in /usr/local/lib/python3.7/dist-packages (from pandas>=0.23.4->camelot-py[cv]) (2.8.2)\n",
            "Requirement already satisfied: cryptography in /usr/local/lib/python3.7/dist-packages (from pdfminer.six>=20200726->camelot-py[cv]) (36.0.2)\n",
            "Requirement already satisfied: six>=1.5 in /usr/local/lib/python3.7/dist-packages (from python-dateutil>=2.7.3->pandas>=0.23.4->camelot-py[cv]) (1.15.0)\n",
            "Requirement already satisfied: cffi>=1.12 in /usr/local/lib/python3.7/dist-packages (from cryptography->pdfminer.six>=20200726->camelot-py[cv]) (1.15.0)\n",
            "Requirement already satisfied: pycparser in /usr/local/lib/python3.7/dist-packages (from cffi>=1.12->cryptography->pdfminer.six>=20200726->camelot-py[cv]) (2.21)\n",
            "Requirement already satisfied: xlsxwriter in /usr/local/lib/python3.7/dist-packages (3.0.3)\n"
          ]
        }
      ],
      "source": [
        "!pip install \"camelot-py[cv]\"\n",
        "!pip install xlsxwriter"
      ]
    },
    {
      "cell_type": "code",
      "execution_count": 2,
      "metadata": {
        "id": "Hx7GJ2MCen06",
        "colab": {
          "base_uri": "https://localhost:8080/"
        },
        "outputId": "1d8adb9a-0045-4d1f-c4fa-73503dc290e7"
      },
      "outputs": [
        {
          "output_type": "stream",
          "name": "stdout",
          "text": [
            "Reading package lists... Done\n",
            "Building dependency tree       \n",
            "Reading state information... Done\n",
            "ghostscript is already the newest version (9.26~dfsg+0-0ubuntu0.18.04.15).\n",
            "python3-tk is already the newest version (3.6.9-1~18.04).\n",
            "0 upgraded, 0 newly installed, 0 to remove and 39 not upgraded.\n"
          ]
        }
      ],
      "source": [
        "!apt install ghostscript python3-tk"
      ]
    },
    {
      "cell_type": "code",
      "source": [
        "!wget 'http://www.kepcorp.com/annualreport2018/pdf/keppel-corporation-limited-annual-report-2018.pdf'"
      ],
      "metadata": {
        "colab": {
          "base_uri": "https://localhost:8080/"
        },
        "id": "4352cvhtcQy1",
        "outputId": "c1c6845e-9b7c-4edf-d449-20c1ae974d8d"
      },
      "execution_count": 3,
      "outputs": [
        {
          "output_type": "stream",
          "name": "stdout",
          "text": [
            "--2022-04-20 11:25:48--  http://www.kepcorp.com/annualreport2018/pdf/keppel-corporation-limited-annual-report-2018.pdf\n",
            "Resolving www.kepcorp.com (www.kepcorp.com)... 120.50.42.169\n",
            "Connecting to www.kepcorp.com (www.kepcorp.com)|120.50.42.169|:80... connected.\n",
            "HTTP request sent, awaiting response... 200 OK\n",
            "Length: 8942409 (8.5M) [application/pdf]\n",
            "Saving to: ‘keppel-corporation-limited-annual-report-2018.pdf’\n",
            "\n",
            "keppel-corporation- 100%[===================>]   8.53M  1.16MB/s    in 11s     \n",
            "\n",
            "2022-04-20 11:25:59 (818 KB/s) - ‘keppel-corporation-limited-annual-report-2018.pdf’ saved [8942409/8942409]\n",
            "\n"
          ]
        }
      ]
    },
    {
      "cell_type": "code",
      "execution_count": 4,
      "metadata": {
        "id": "lBF6M3dReLXD"
      },
      "outputs": [],
      "source": [
        "import camelot\n",
        "table=camelot.read_pdf('/content/keppel-corporation-limited-annual-report-2018.pdf', flavor='stream', pages='69')"
      ]
    },
    {
      "cell_type": "code",
      "execution_count": 5,
      "metadata": {
        "id": "c2KdKQKRfclk",
        "colab": {
          "base_uri": "https://localhost:8080/"
        },
        "outputId": "92e8c139-19d9-49c1-de99-50a6a0e7350a"
      },
      "outputs": [
        {
          "output_type": "execute_result",
          "data": {
            "text/plain": [
              "2"
            ]
          },
          "metadata": {},
          "execution_count": 5
        }
      ],
      "source": [
        "len(table)"
      ]
    },
    {
      "cell_type": "code",
      "execution_count": 6,
      "metadata": {
        "id": "y0YDwktgfp7Z",
        "colab": {
          "base_uri": "https://localhost:8080/"
        },
        "outputId": "082a30f2-f3f5-414d-a804-ceaaeeb28bec"
      },
      "outputs": [
        {
          "output_type": "execute_result",
          "data": {
            "text/plain": [
              "{'accuracy': 98.97, 'order': 2, 'page': 69, 'whitespace': 13.27}"
            ]
          },
          "metadata": {},
          "execution_count": 6
        }
      ],
      "source": [
        "table[1].parsing_report"
      ]
    },
    {
      "cell_type": "code",
      "execution_count": 7,
      "metadata": {
        "id": "GIpBYs1LJDz5",
        "colab": {
          "base_uri": "https://localhost:8080/",
          "height": 265
        },
        "outputId": "44c2d5fe-7e35-4456-ffd2-334f3cf0c172"
      },
      "outputs": [
        {
          "output_type": "display_data",
          "data": {
            "text/plain": [
              "<Figure size 432x288 with 1 Axes>"
            ],
            "image/png": "[encoded data removed]"
          },
          "metadata": {
            "needs_background": "light"
          }
        }
      ],
      "source": [
        "import matplotlib.pyplot as plt\n",
        "camelot.plot(table[1], kind='contour')\n",
        "plt.show()"
      ]
    },
    {
      "cell_type": "code",
      "execution_count": 8,
      "metadata": {
        "id": "EXXNNCnigG1o",
        "colab": {
          "base_uri": "https://localhost:8080/",
          "height": 488
        },
        "outputId": "e2885b18-19b1-4e29-90df-6aeab41d170b"
      },
      "outputs": [
        {
          "output_type": "execute_result",
          "data": {
            "text/plain": [
              "                                              0               1      2  \\\n",
              "0   Board and Committee Meetings and Attendance                          \n",
              "1                                                                        \n",
              "2                                                Board Meetings  Audit   \n",
              "3                                 Lee Boon Yang              11      –   \n",
              "4                                  Loh Chin Hua              11      –   \n",
              "5                                  Tow Heng Tan               8      –   \n",
              "6                           Alvin Yeo Khirn Hai               9      5   \n",
              "7                                    Tan Ek Kia               9      5   \n",
              "8                                    Danny Teoh              10      5   \n",
              "9                              Tan Puay Chiang1              10      –   \n",
              "10                                Till Vestring              11      –   \n",
              "11                                 Veronica Eng              11      5   \n",
              "12                       Jean-François Manzoni2      3 out of 3      –   \n",
              "13                         No. of Meetings Held              11      5   \n",
              "\n",
              "             3                         4       5     6  \n",
              "0                                                       \n",
              "1               Board Committee Meetings                \n",
              "2   Nomination              Remuneration  Safety  Risk  \n",
              "3            3                         4       4     –  \n",
              "4            –                         –       4     –  \n",
              "5            3                         2       –     4  \n",
              "6            1                         –       –     –  \n",
              "7            –                         –       4     4  \n",
              "8            –                         4       –     4  \n",
              "9            3                         –       4     4  \n",
              "10           3                         4       –     –  \n",
              "11           –                         –       –     4  \n",
              "12           –                         –       –     –  \n",
              "13           3                         4       4     4  "
            ],
            "text/html": [
              "\n",
              "  <div id=\"df-01b6827a-a9cd-45e2-82a3-346a6554c84d\">\n",
              "    <div class=\"colab-df-container\">\n",
              "      <div>\n",
              "<style scoped>\n",
              "    .dataframe tbody tr th:only-of-type {\n",
              "        vertical-align: middle;\n",
              "    }\n",
              "\n",
              "    .dataframe tbody tr th {\n",
              "        vertical-align: top;\n",
              "    }\n",
              "\n",
              "    .dataframe thead th {\n",
              "        text-align: right;\n",
              "    }\n",
              "</style>\n",
              "<table border=\"1\" class=\"dataframe\">\n",
              "  <thead>\n",
              "    <tr style=\"text-align: right;\">\n",
              "      <th></th>\n",
              "      <th>0</th>\n",
              "      <th>1</th>\n",
              "      <th>2</th>\n",
              "      <th>3</th>\n",
              "      <th>4</th>\n",
              "      <th>5</th>\n",
              "      <th>6</th>\n",
              "    </tr>\n",
              "  </thead>\n",
              "  <tbody>\n",
              "    <tr>\n",
              "      <th>0</th>\n",
              "      <td>Board and Committee Meetings and Attendance</td>\n",
              "      <td></td>\n",
              "      <td></td>\n",
              "      <td></td>\n",
              "      <td></td>\n",
              "      <td></td>\n",
              "      <td></td>\n",
              "    </tr>\n",
              "    <tr>\n",
              "      <th>1</th>\n",
              "      <td></td>\n",
              "      <td></td>\n",
              "      <td></td>\n",
              "      <td></td>\n",
              "      <td>Board Committee Meetings</td>\n",
              "      <td></td>\n",
              "      <td></td>\n",
              "    </tr>\n",
              "    <tr>\n",
              "      <th>2</th>\n",
              "      <td></td>\n",
              "      <td>Board Meetings</td>\n",
              "      <td>Audit</td>\n",
              "      <td>Nomination</td>\n",
              "      <td>Remuneration</td>\n",
              "      <td>Safety</td>\n",
              "      <td>Risk</td>\n",
              "    </tr>\n",
              "    <tr>\n",
              "      <th>3</th>\n",
              "      <td>Lee Boon Yang</td>\n",
              "      <td>11</td>\n",
              "      <td>–</td>\n",
              "      <td>3</td>\n",
              "      <td>4</td>\n",
              "      <td>4</td>\n",
              "      <td>–</td>\n",
              "    </tr>\n",
              "    <tr>\n",
              "      <th>4</th>\n",
              "      <td>Loh Chin Hua</td>\n",
              "      <td>11</td>\n",
              "      <td>–</td>\n",
              "      <td>–</td>\n",
              "      <td>–</td>\n",
              "      <td>4</td>\n",
              "      <td>–</td>\n",
              "    </tr>\n",
              "    <tr>\n",
              "      <th>5</th>\n",
              "      <td>Tow Heng Tan</td>\n",
              "      <td>8</td>\n",
              "      <td>–</td>\n",
              "      <td>3</td>\n",
              "      <td>2</td>\n",
              "      <td>–</td>\n",
              "      <td>4</td>\n",
              "    </tr>\n",
              "    <tr>\n",
              "      <th>6</th>\n",
              "      <td>Alvin Yeo Khirn Hai</td>\n",
              "      <td>9</td>\n",
              "      <td>5</td>\n",
              "      <td>1</td>\n",
              "      <td>–</td>\n",
              "      <td>–</td>\n",
              "      <td>–</td>\n",
              "    </tr>\n",
              "    <tr>\n",
              "      <th>7</th>\n",
              "      <td>Tan Ek Kia</td>\n",
              "      <td>9</td>\n",
              "      <td>5</td>\n",
              "      <td>–</td>\n",
              "      <td>–</td>\n",
              "      <td>4</td>\n",
              "      <td>4</td>\n",
              "    </tr>\n",
              "    <tr>\n",
              "      <th>8</th>\n",
              "      <td>Danny Teoh</td>\n",
              "      <td>10</td>\n",
              "      <td>5</td>\n",
              "      <td>–</td>\n",
              "      <td>4</td>\n",
              "      <td>–</td>\n",
              "      <td>4</td>\n",
              "    </tr>\n",
              "    <tr>\n",
              "      <th>9</th>\n",
              "      <td>Tan Puay Chiang1</td>\n",
              "      <td>10</td>\n",
              "      <td>–</td>\n",
              "      <td>3</td>\n",
              "      <td>–</td>\n",
              "      <td>4</td>\n",
              "      <td>4</td>\n",
              "    </tr>\n",
              "    <tr>\n",
              "      <th>10</th>\n",
              "      <td>Till Vestring</td>\n",
              "      <td>11</td>\n",
              "      <td>–</td>\n",
              "      <td>3</td>\n",
              "      <td>4</td>\n",
              "      <td>–</td>\n",
              "      <td>–</td>\n",
              "    </tr>\n",
              "    <tr>\n",
              "      <th>11</th>\n",
              "      <td>Veronica Eng</td>\n",
              "      <td>11</td>\n",
              "      <td>5</td>\n",
              "      <td>–</td>\n",
              "      <td>–</td>\n",
              "      <td>–</td>\n",
              "      <td>4</td>\n",
              "    </tr>\n",
              "    <tr>\n",
              "      <th>12</th>\n",
              "      <td>Jean-François Manzoni2</td>\n",
              "      <td>3 out of 3</td>\n",
              "      <td>–</td>\n",
              "      <td>–</td>\n",
              "      <td>–</td>\n",
              "      <td>–</td>\n",
              "      <td>–</td>\n",
              "    </tr>\n",
              "    <tr>\n",
              "      <th>13</th>\n",
              "      <td>No. of Meetings Held</td>\n",
              "      <td>11</td>\n",
              "      <td>5</td>\n",
              "      <td>3</td>\n",
              "      <td>4</td>\n",
              "      <td>4</td>\n",
              "      <td>4</td>\n",
              "    </tr>\n",
              "  </tbody>\n",
              "</table>\n",
              "</div>\n",
              "      <button class=\"colab-df-convert\" onclick=\"convertToInteractive('df-01b6827a-a9cd-45e2-82a3-346a6554c84d')\"\n",
              "              title=\"Convert this dataframe to an interactive table.\"\n",
              "              style=\"display:none;\">\n",
              "        \n",
              "  <svg xmlns=\"http://www.w3.org/2000/svg\" height=\"24px\"viewBox=\"0 0 24 24\"\n",
              "       width=\"24px\">\n",
              "    <path d=\"M0 0h24v24H0V0z\" fill=\"none\"/>\n",
              "    <path d=\"M18.56 5.44l.94 2.06.94-2.06 2.06-.94-2.06-.94-.94-2.06-.94 2.06-2.06.94zm-11 1L8.5 8.5l.94-2.06 2.06-.94-2.06-.94L8.5 2.5l-.94 2.06-2.06.94zm10 10l.94 2.06.94-2.06 2.06-.94-2.06-.94-.94-2.06-.94 2.06-2.06.94z\"/><path d=\"M17.41 7.96l-1.37-1.37c-.4-.4-.92-.59-1.43-.59-.52 0-1.04.2-1.43.59L10.3 9.45l-7.72 7.72c-.78.78-.78 2.05 0 2.83L4 21.41c.39.39.9.59 1.41.59.51 0 1.02-.2 1.41-.59l7.78-7.78 2.81-2.81c.8-.78.8-2.07 0-2.86zM5.41 20L4 18.59l7.72-7.72 1.47 1.35L5.41 20z\"/>\n",
              "  </svg>\n",
              "      </button>\n",
              "      \n",
              "  <style>\n",
              "    .colab-df-container {\n",
              "      display:flex;\n",
              "      flex-wrap:wrap;\n",
              "      gap: 12px;\n",
              "    }\n",
              "\n",
              "    .colab-df-convert {\n",
              "      background-color: #E8F0FE;\n",
              "      border: none;\n",
              "      border-radius: 50%;\n",
              "      cursor: pointer;\n",
              "      display: none;\n",
              "      fill: #1967D2;\n",
              "      height: 32px;\n",
              "      padding: 0 0 0 0;\n",
              "      width: 32px;\n",
              "    }\n",
              "\n",
              "    .colab-df-convert:hover {\n",
              "      background-color: #E2EBFA;\n",
              "      box-shadow: 0px 1px 2px rgba(60, 64, 67, 0.3), 0px 1px 3px 1px rgba(60, 64, 67, 0.15);\n",
              "      fill: #174EA6;\n",
              "    }\n",
              "\n",
              "    [theme=dark] .colab-df-convert {\n",
              "      background-color: #3B4455;\n",
              "      fill: #D2E3FC;\n",
              "    }\n",
              "\n",
              "    [theme=dark] .colab-df-convert:hover {\n",
              "      background-color: #434B5C;\n",
              "      box-shadow: 0px 1px 3px 1px rgba(0, 0, 0, 0.15);\n",
              "      filter: drop-shadow(0px 1px 2px rgba(0, 0, 0, 0.3));\n",
              "      fill: #FFFFFF;\n",
              "    }\n",
              "  </style>\n",
              "\n",
              "      <script>\n",
              "        const buttonEl =\n",
              "          document.querySelector('#df-01b6827a-a9cd-45e2-82a3-346a6554c84d button.colab-df-convert');\n",
              "        buttonEl.style.display =\n",
              "          google.colab.kernel.accessAllowed ? 'block' : 'none';\n",
              "\n",
              "        async function convertToInteractive(key) {\n",
              "          const element = document.querySelector('#df-01b6827a-a9cd-45e2-82a3-346a6554c84d');\n",
              "          const dataTable =\n",
              "            await google.colab.kernel.invokeFunction('convertToInteractive',\n",
              "                                                     [key], {});\n",
              "          if (!dataTable) return;\n",
              "\n",
              "          const docLinkHtml = 'Like what you see? Visit the ' +\n",
              "            '<a target=\"_blank\" href=https://colab.research.google.com/notebooks/data_table.ipynb>data table notebook</a>'\n",
              "            + ' to learn more about interactive tables.';\n",
              "          element.innerHTML = '';\n",
              "          dataTable['output_type'] = 'display_data';\n",
              "          await google.colab.output.renderOutput(dataTable, element);\n",
              "          const docLink = document.createElement('div');\n",
              "          docLink.innerHTML = docLinkHtml;\n",
              "          element.appendChild(docLink);\n",
              "        }\n",
              "      </script>\n",
              "    </div>\n",
              "  </div>\n",
              "  "
            ]
          },
          "metadata": {},
          "execution_count": 8
        }
      ],
      "source": [
        "df=table[1].df\n",
        "df"
      ]
    },
    {
      "cell_type": "code",
      "source": [
        "import pandas as pd\n",
        "\n",
        "writer = pd.ExcelWriter('output_excel.xlsx', engine='xlsxwriter')\n",
        "df.to_excel(writer, header=False, index=False)#, sheet_name='welcome', index=False)\n",
        "writer.save()"
      ],
      "metadata": {
        "id": "CTbrihNyspSt"
      },
      "execution_count": 9,
      "outputs": []
    },
    {
      "cell_type": "code",
      "source": [
        ""
      ],
      "metadata": {
        "id": "bnHEEHses5lg"
      },
      "execution_count": 9,
      "outputs": []
    }
  ]
}